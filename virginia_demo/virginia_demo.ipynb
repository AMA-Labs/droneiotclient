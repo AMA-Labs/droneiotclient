{
 "cells": [
  {
   "cell_type": "code",
   "execution_count": 1,
   "metadata": {},
   "outputs": [],
   "source": [
    "# Setup\n",
    "import pandas as pd\n",
    "import numpy as np\n",
    "import requests\n",
    "import os\n",
    "import json\n",
    "import matplotlib.pyplot as plt \n",
    "import warnings\n",
    "%matplotlib inline\n",
    "from datetime import datetime\n",
    "from pandas.plotting import register_matplotlib_converters\n",
    "register_matplotlib_converters()\n",
    "import matplotlib.dates as mdates\n",
    "from matplotlib.dates import DateFormatter\n",
    "import folium\n",
    "from scipy.interpolate import griddata\n",
    "from numpy import linspace\n",
    "import geojsoncontour\n",
    "import plotly.graph_objects as go\n",
    "import cufflinks\n",
    "from plotly.offline import iplot, plot\n",
    "import plotly.express as px\n",
    "import plotly.io as pio\n",
    "\n",
    "\n",
    "#Make the plots pretty\n",
    "plt.rcParams['font.family'] = \"sans-serif\"\n",
    "plt.rcParams['font.sans-serif'] = 'Helvetica'\n",
    "plt.rcParams['axes.edgecolor']='k'#'#333F4B'\n",
    "plt.rcParams['axes.linewidth']=0.8\n",
    "plt.rcParams['xtick.color']='k'#'#333F4B'\n",
    "plt.rcParams['ytick.color']='k'#'#333F4B'\n",
    "plt_txt = 10\n",
    "plt.rcParams.update({'font.size': plt_txt})\n",
    "blue = '#0091ea'\n",
    "green = '#00c853'\n",
    "orange = '#ffab00'\n",
    "\n",
    "map_center = (37.993974, -98.927855) #lat lon of the center of the US\n",
    "\n",
    "GET_URL = \"https://api.is-conic.com/api/v0p1/debug/get_data\""
   ]
  },
  {
   "cell_type": "markdown",
   "metadata": {},
   "source": [
    "# First, we'll load in data from our server and convert it into a pandas dataframe."
   ]
  },
  {
   "cell_type": "code",
   "execution_count": 2,
   "metadata": {},
   "outputs": [],
   "source": [
    "header = {\"Content-Type\": \"application/json\"}\n",
    "with warnings.catch_warnings():\n",
    "    warnings.simplefilter(\"ignore\")\n",
    "    response = requests.request(\"GET\", GET_URL, headers=header, verify=False)\n",
    "if response.status_code != 200:\n",
    "    raise Exception(response.status_code, response.text)\n",
    "json_data = response.json()\n",
    "df = pd.DataFrame.from_dict(json_data)\n",
    "\n",
    "#look at data after March 9, 2021, Midnight PST (the number is that time in Unix time)\n",
    "df = df[df['timestamp'] >= 1615276860]"
   ]
  },
  {
   "cell_type": "markdown",
   "metadata": {},
   "source": [
    "# Next, we'll create a map image to show where all of our sensors are. \n",
    "## Click on one of the balloons to see more details"
   ]
  },
  {
   "cell_type": "code",
   "execution_count": 3,
   "metadata": {},
   "outputs": [
    {
     "data": {
      "text/html": [
       "<div style=\"width:100%;\"><div style=\"position:relative;width:100%;height:0;padding-bottom:60%;\"><span style=\"color:#565656\">Make this Notebook Trusted to load map: File -> Trust Notebook</span><iframe src=\"about:blank\" style=\"position:absolute;width:100%;height:100%;left:0;top:0;border:none !important;\" data-html=%3C%21DOCTYPE%20html%3E%0A%3Chead%3E%20%20%20%20%0A%20%20%20%20%3Cmeta%20http-equiv%3D%22content-type%22%20content%3D%22text/html%3B%20charset%3DUTF-8%22%20/%3E%0A%20%20%20%20%0A%20%20%20%20%20%20%20%20%3Cscript%3E%0A%20%20%20%20%20%20%20%20%20%20%20%20L_NO_TOUCH%20%3D%20false%3B%0A%20%20%20%20%20%20%20%20%20%20%20%20L_DISABLE_3D%20%3D%20false%3B%0A%20%20%20%20%20%20%20%20%3C/script%3E%0A%20%20%20%20%0A%20%20%20%20%3Cstyle%3Ehtml%2C%20body%20%7Bwidth%3A%20100%25%3Bheight%3A%20100%25%3Bmargin%3A%200%3Bpadding%3A%200%3B%7D%3C/style%3E%0A%20%20%20%20%3Cstyle%3E%23map%20%7Bposition%3Aabsolute%3Btop%3A0%3Bbottom%3A0%3Bright%3A0%3Bleft%3A0%3B%7D%3C/style%3E%0A%20%20%20%20%3Cscript%20src%3D%22https%3A//cdn.jsdelivr.net/npm/leaflet%401.6.0/dist/leaflet.js%22%3E%3C/script%3E%0A%20%20%20%20%3Cscript%20src%3D%22https%3A//code.jquery.com/jquery-1.12.4.min.js%22%3E%3C/script%3E%0A%20%20%20%20%3Cscript%20src%3D%22https%3A//maxcdn.bootstrapcdn.com/bootstrap/3.2.0/js/bootstrap.min.js%22%3E%3C/script%3E%0A%20%20%20%20%3Cscript%20src%3D%22https%3A//cdnjs.cloudflare.com/ajax/libs/Leaflet.awesome-markers/2.0.2/leaflet.awesome-markers.js%22%3E%3C/script%3E%0A%20%20%20%20%3Clink%20rel%3D%22stylesheet%22%20href%3D%22https%3A//cdn.jsdelivr.net/npm/leaflet%401.6.0/dist/leaflet.css%22/%3E%0A%20%20%20%20%3Clink%20rel%3D%22stylesheet%22%20href%3D%22https%3A//maxcdn.bootstrapcdn.com/bootstrap/3.2.0/css/bootstrap.min.css%22/%3E%0A%20%20%20%20%3Clink%20rel%3D%22stylesheet%22%20href%3D%22https%3A//maxcdn.bootstrapcdn.com/bootstrap/3.2.0/css/bootstrap-theme.min.css%22/%3E%0A%20%20%20%20%3Clink%20rel%3D%22stylesheet%22%20href%3D%22https%3A//maxcdn.bootstrapcdn.com/font-awesome/4.6.3/css/font-awesome.min.css%22/%3E%0A%20%20%20%20%3Clink%20rel%3D%22stylesheet%22%20href%3D%22https%3A//cdnjs.cloudflare.com/ajax/libs/Leaflet.awesome-markers/2.0.2/leaflet.awesome-markers.css%22/%3E%0A%20%20%20%20%3Clink%20rel%3D%22stylesheet%22%20href%3D%22https%3A//cdn.jsdelivr.net/gh/python-visualization/folium/folium/templates/leaflet.awesome.rotate.min.css%22/%3E%0A%20%20%20%20%0A%20%20%20%20%20%20%20%20%20%20%20%20%3Cmeta%20name%3D%22viewport%22%20content%3D%22width%3Ddevice-width%2C%0A%20%20%20%20%20%20%20%20%20%20%20%20%20%20%20%20initial-scale%3D1.0%2C%20maximum-scale%3D1.0%2C%20user-scalable%3Dno%22%20/%3E%0A%20%20%20%20%20%20%20%20%20%20%20%20%3Cstyle%3E%0A%20%20%20%20%20%20%20%20%20%20%20%20%20%20%20%20%23map_39ad9a5a018246148ff806119917e7b8%20%7B%0A%20%20%20%20%20%20%20%20%20%20%20%20%20%20%20%20%20%20%20%20position%3A%20relative%3B%0A%20%20%20%20%20%20%20%20%20%20%20%20%20%20%20%20%20%20%20%20width%3A%20100.0%25%3B%0A%20%20%20%20%20%20%20%20%20%20%20%20%20%20%20%20%20%20%20%20height%3A%20100.0%25%3B%0A%20%20%20%20%20%20%20%20%20%20%20%20%20%20%20%20%20%20%20%20left%3A%200.0%25%3B%0A%20%20%20%20%20%20%20%20%20%20%20%20%20%20%20%20%20%20%20%20top%3A%200.0%25%3B%0A%20%20%20%20%20%20%20%20%20%20%20%20%20%20%20%20%7D%0A%20%20%20%20%20%20%20%20%20%20%20%20%3C/style%3E%0A%20%20%20%20%20%20%20%20%0A%3C/head%3E%0A%3Cbody%3E%20%20%20%20%0A%20%20%20%20%0A%20%20%20%20%20%20%20%20%20%20%20%20%3Cdiv%20class%3D%22folium-map%22%20id%3D%22map_39ad9a5a018246148ff806119917e7b8%22%20%3E%3C/div%3E%0A%20%20%20%20%20%20%20%20%0A%3C/body%3E%0A%3Cscript%3E%20%20%20%20%0A%20%20%20%20%0A%20%20%20%20%20%20%20%20%20%20%20%20var%20map_39ad9a5a018246148ff806119917e7b8%20%3D%20L.map%28%0A%20%20%20%20%20%20%20%20%20%20%20%20%20%20%20%20%22map_39ad9a5a018246148ff806119917e7b8%22%2C%0A%20%20%20%20%20%20%20%20%20%20%20%20%20%20%20%20%7B%0A%20%20%20%20%20%20%20%20%20%20%20%20%20%20%20%20%20%20%20%20center%3A%20%5B37.993974%2C%20-98.927855%5D%2C%0A%20%20%20%20%20%20%20%20%20%20%20%20%20%20%20%20%20%20%20%20crs%3A%20L.CRS.EPSG3857%2C%0A%20%20%20%20%20%20%20%20%20%20%20%20%20%20%20%20%20%20%20%20zoom%3A%204%2C%0A%20%20%20%20%20%20%20%20%20%20%20%20%20%20%20%20%20%20%20%20zoomControl%3A%20true%2C%0A%20%20%20%20%20%20%20%20%20%20%20%20%20%20%20%20%20%20%20%20preferCanvas%3A%20false%2C%0A%20%20%20%20%20%20%20%20%20%20%20%20%20%20%20%20%7D%0A%20%20%20%20%20%20%20%20%20%20%20%20%29%3B%0A%0A%20%20%20%20%20%20%20%20%20%20%20%20%0A%0A%20%20%20%20%20%20%20%20%0A%20%20%20%20%0A%20%20%20%20%20%20%20%20%20%20%20%20var%20tile_layer_366240671c7d4c21a79cd9fcfca0c81b%20%3D%20L.tileLayer%28%0A%20%20%20%20%20%20%20%20%20%20%20%20%20%20%20%20%22https%3A//stamen-tiles-%7Bs%7D.a.ssl.fastly.net/terrain/%7Bz%7D/%7Bx%7D/%7By%7D.jpg%22%2C%0A%20%20%20%20%20%20%20%20%20%20%20%20%20%20%20%20%7B%22attribution%22%3A%20%22Map%20tiles%20by%20%5Cu003ca%20href%3D%5C%22http%3A//stamen.com%5C%22%5Cu003eStamen%20Design%5Cu003c/a%5Cu003e%2C%20under%20%5Cu003ca%20href%3D%5C%22http%3A//creativecommons.org/licenses/by/3.0%5C%22%5Cu003eCC%20BY%203.0%5Cu003c/a%5Cu003e.%20Data%20by%20%5Cu0026copy%3B%20%5Cu003ca%20href%3D%5C%22http%3A//openstreetmap.org%5C%22%5Cu003eOpenStreetMap%5Cu003c/a%5Cu003e%2C%20under%20%5Cu003ca%20href%3D%5C%22http%3A//creativecommons.org/licenses/by-sa/3.0%5C%22%5Cu003eCC%20BY%20SA%5Cu003c/a%5Cu003e.%22%2C%20%22detectRetina%22%3A%20false%2C%20%22maxNativeZoom%22%3A%2018%2C%20%22maxZoom%22%3A%2018%2C%20%22minZoom%22%3A%200%2C%20%22noWrap%22%3A%20false%2C%20%22opacity%22%3A%201%2C%20%22subdomains%22%3A%20%22abc%22%2C%20%22tms%22%3A%20false%7D%0A%20%20%20%20%20%20%20%20%20%20%20%20%29.addTo%28map_39ad9a5a018246148ff806119917e7b8%29%3B%0A%20%20%20%20%20%20%20%20%0A%20%20%20%20%0A%20%20%20%20%20%20%20%20%20%20%20%20var%20marker_9191ac54641d49bfadaccb5ea43a875c%20%3D%20L.marker%28%0A%20%20%20%20%20%20%20%20%20%20%20%20%20%20%20%20%5B32.7767%2C%20-96.797%5D%2C%0A%20%20%20%20%20%20%20%20%20%20%20%20%20%20%20%20%7B%7D%0A%20%20%20%20%20%20%20%20%20%20%20%20%29.addTo%28map_39ad9a5a018246148ff806119917e7b8%29%3B%0A%20%20%20%20%20%20%20%20%0A%20%20%20%20%0A%20%20%20%20%20%20%20%20var%20popup_132e1bf688ae4733907631e3b4766bf9%20%3D%20L.popup%28%7B%22maxWidth%22%3A%20%22100%25%22%7D%29%3B%0A%0A%20%20%20%20%20%20%20%20%0A%20%20%20%20%20%20%20%20%20%20%20%20var%20html_8e6ef40d17ea4343bdcf10347772ad65%20%3D%20%24%28%60%3Cdiv%20id%3D%22html_8e6ef40d17ea4343bdcf10347772ad65%22%20style%3D%22width%3A%20100.0%25%3B%20height%3A%20100.0%25%3B%22%3ESince%3A%2003-26.%20Measures%20milli_otto%3C/div%3E%60%29%5B0%5D%3B%0A%20%20%20%20%20%20%20%20%20%20%20%20popup_132e1bf688ae4733907631e3b4766bf9.setContent%28html_8e6ef40d17ea4343bdcf10347772ad65%29%3B%0A%20%20%20%20%20%20%20%20%0A%0A%20%20%20%20%20%20%20%20marker_9191ac54641d49bfadaccb5ea43a875c.bindPopup%28popup_132e1bf688ae4733907631e3b4766bf9%29%0A%20%20%20%20%20%20%20%20%3B%0A%0A%20%20%20%20%20%20%20%20%0A%20%20%20%20%0A%20%20%20%20%0A%20%20%20%20%20%20%20%20%20%20%20%20marker_9191ac54641d49bfadaccb5ea43a875c.bindTooltip%28%0A%20%20%20%20%20%20%20%20%20%20%20%20%20%20%20%20%60%3Cdiv%3E%0A%20%20%20%20%20%20%20%20%20%20%20%20%20%20%20%20%20%20%20%20%20otto_stations%0A%20%20%20%20%20%20%20%20%20%20%20%20%20%20%20%20%20%3C/div%3E%60%2C%0A%20%20%20%20%20%20%20%20%20%20%20%20%20%20%20%20%7B%22sticky%22%3A%20true%7D%0A%20%20%20%20%20%20%20%20%20%20%20%20%29%3B%0A%20%20%20%20%20%20%20%20%0A%3C/script%3E onload=\"this.contentDocument.open();this.contentDocument.write(    decodeURIComponent(this.getAttribute('data-html')));this.contentDocument.close();\" allowfullscreen webkitallowfullscreen mozallowfullscreen></iframe></div></div>"
      ],
      "text/plain": [
       "<folium.folium.Map at 0x7ffa58b0a210>"
      ]
     },
     "execution_count": 3,
     "metadata": {},
     "output_type": "execute_result"
    }
   ],
   "source": [
    "#TODO: account for mobile sensors. groupby id, get the last lat/lon. \n",
    "m = folium.Map(location=[map_center[0], map_center[1]], zoom_start=4, tiles=\"Stamen Terrain\")\n",
    "\n",
    "map_df = df.groupby('key', as_index=False)\n",
    "#get the station name, unique units recorded, and last lat/lon\n",
    "for name, grp in map_df:\n",
    "    units = list(grp['unit'].unique())\n",
    "    start = datetime.utcfromtimestamp(grp['timestamp'].min()).strftime(\"%m-%d\")\n",
    "    label = \"Since: {}. Measures {}\".format(start, \", \".join(units))\n",
    "    folium.Marker([grp.iloc[-1]['lat'], grp.iloc[-1]['lon']], \\\n",
    "                  popup=label, tooltip=name).add_to(m)\n",
    "\n",
    "m"
   ]
  },
  {
   "cell_type": "markdown",
   "metadata": {},
   "source": [
    "## Now we'll plot the data from each sensor"
   ]
  },
  {
   "cell_type": "code",
   "execution_count": 4,
   "metadata": {},
   "outputs": [],
   "source": [
    "plot_df = df[~df['timestamp'].isna()].sort_values('timestamp', axis=0)\n",
    "#convert to datetime. subtract 8 hours to get to PST\n",
    "plot_df['timestamp'] = plot_df['timestamp'].apply(lambda x: \\\n",
    "    datetime.utcfromtimestamp(x-28800))\n",
    "grouped = plot_df.groupby(['key', 'unit'], as_index=False)\n",
    "date_form = DateFormatter(\"%H:%M\")\n",
    "\n",
    "unit_to_mode = {\"Celsius\":\"Temperature\", \"Pa\":\"Air Pressure\", \"RH%\":\"Humidity\", \"C\": \"Temperature\"}\n",
    "\n",
    "for name, grp in grouped:\n",
    "    if name[1] not in unit_to_mode:\n",
    "        continue\n",
    "    fig, ax = plt.subplots()  \n",
    "    ax.plot('timestamp', 'value', color=green, data=grp)\n",
    "    ax.set_title(\"{} (Mountain View, CA): {}\".format(name[0], unit_to_mode[name[1]]))\n",
    "    ax.set_ylabel(name[1])\n",
    "    ax.set_xlabel(\"March 9, 2021\")\n",
    "    ax.xaxis.set_major_formatter(date_form)\n",
    "    ax.spines['top'].set_color('none')\n",
    "    ax.spines['right'].set_color('none')\n",
    "    plt.show()"
   ]
  },
  {
   "cell_type": "markdown",
   "metadata": {},
   "source": [
    "# Now, we're going to make a heatmap using some fictitious data "
   ]
  },
  {
   "cell_type": "code",
   "execution_count": 5,
   "metadata": {},
   "outputs": [],
   "source": [
    "#this code is from https://towardsdatascience.com/visualizing-spatial-data-with-geojson-heatmaps-1fbe2063ab86\n",
    "\n",
    "#number of groups to use for the heatmap\n",
    "# if there are too many groups and some groups are empty then it won't work\n",
    "n_grades = 4 \n",
    "measurement_selected = \"Celsius\"\n",
    "\n",
    "#when we get real data we can do filtering by measurement, time unit, etc here\n",
    "\"\"\"\n",
    "heatmap_df = df[~df['timestamp'].isna()].sort_values('timestamp', axis=0)\n",
    "heatmap_df = heatmap_df[heatmap_df['unit'] == measurement_selected]\n",
    "heatmap_df['timestamp'] = heatmap_df['timestamp'].apply(lambda x: \\\n",
    "    datetime.utcfromtimestamp(x-28800))\n",
    "heatmap_df = heatmap_df.groupby(['key', 'unit'], as_index=False).mean()\n",
    "heatmap_df[heatmap_df['unit'] == measurement_selected]\n",
    "\"\"\"\n",
    "\n",
    "#create fake heatmap data\n",
    "idx = [\"value\", \"lat\", \"lon\", \"time\"]\n",
    "s1 = pd.Series([23, 32.632569, -117.102117, 0], index=idx)\n",
    "s2 = pd.Series([29, 32.7, -117.15, 0], index=idx)\n",
    "s3 = pd.Series([19, 32.743252, -117.092956, 0], index=idx)\n",
    "s4 = pd.Series([13, 32.726204, -117.247757, 0], index=idx)\n",
    "s5 = pd.Series([27, 32.632569, -117.102117, 1], index=idx)\n",
    "s6 = pd.Series([33, 32.7, -117.15, 1], index=idx)\n",
    "s7 = pd.Series([23, 32.743252, -117.092956, 1], index=idx)\n",
    "s8 = pd.Series([14, 32.726204, -117.247757, 1], index=idx)\n",
    "s9 = pd.Series([31, 32.632569, -117.102117, 2], index=idx)\n",
    "s10 = pd.Series([37, 32.7, -117.15, 2], index=idx)\n",
    "s11 = pd.Series([27, 32.743252, -117.092956, 2], index=idx)\n",
    "s12 = pd.Series([21, 32.726204, -117.247757, 2], index=idx)\n",
    "heatmap_df = pd.DataFrame([s1, s2, s3, s4, s5, s6, s7, s8, s9, s10, s11, s12])"
   ]
  },
  {
   "cell_type": "code",
   "execution_count": 6,
   "metadata": {},
   "outputs": [],
   "source": [
    "#in order to map we need 2 items:\n",
    "# 1. a pandas df where each row is a location id, and a color value to use\n",
    "# 2. a geojson containing geometries and location ids\n",
    "# to use a slider we just need multiple of these\n",
    "\n",
    "#transform into an interpolated array to improve coverage of the map\n",
    "heatmap_center = heatmap_df['lat'].mean(), heatmap_df['lon'].mean()\n",
    "\n",
    "\n",
    "def make_contour_and_geojson(df):\n",
    "    \"\"\"\n",
    "    Given a dataframe containing value, lat, and lon, return \n",
    "    \"\"\"\n",
    "    z = df['value']\n",
    "    y = df['lat']\n",
    "    x = df['lon']\n",
    "    xi = linspace(x.min(),x.max(),100);\n",
    "    yi = linspace(y.min(),y.max(),100);\n",
    "    zi = griddata((x, y), z, (xi[None,:], yi[:,None]), method='linear')\n",
    "\n",
    "    #infer the min_value and step size from n_grades\n",
    "    min_value = z.min() - 1\n",
    "    max_value = z.max()\n",
    "    step_size = (max_value - min_value) / n_grades\n",
    "    max_value += step_size\n",
    "    \n",
    "    #Creating contour plot and turn it into a geojson dict\n",
    "    cs = plt.contourf(xi,yi,zi,np.arange(min_value, max_value, step_size),cmap=plt.cm.jet)\n",
    "    geojson = geojsoncontour.contourf_to_geojson(\n",
    "        contourf=cs,\n",
    "        ndigits=3,\n",
    "    )\n",
    "    heat_geojson=eval(geojson)\n",
    "\n",
    "    # For each region (aka \"feature\"), set its ID equal to i.\n",
    "    # This new array will map those IDs to the lower bound of color bucket the ID belongs to\n",
    "    arr_temp=np.ones([len(heat_geojson[\"features\"]),2])\n",
    "    for i in range(len(heat_geojson[\"features\"])):\n",
    "        heat_geojson[\"features\"][i][\"id\"] = i\n",
    "        arr_temp[i,0]=i\n",
    "        bounds = heat_geojson[\"features\"][i][\"properties\"][\"title\"]\n",
    "        arr_temp[i,1] = bounds.split(\"-\")[0]\n",
    "    df_contour = pd.DataFrame(arr_temp, columns=[\"id\",\"title\"])\n",
    "\n",
    "    return df_contour, heat_geojson"
   ]
  },
  {
   "cell_type": "code",
   "execution_count": 7,
   "metadata": {},
   "outputs": [
    {
     "data": {
      "text/plain": [
       "'temp-plot.html'"
      ]
     },
     "execution_count": 7,
     "metadata": {},
     "output_type": "execute_result"
    },
    {
     "data": {
      "image/png": "[encoded data removed]",
      "text/plain": [
       "<Figure size 432x288 with 1 Axes>"
      ]
     },
     "metadata": {
      "needs_background": "light"
     },
     "output_type": "display_data"
    }
   ],
   "source": [
    "#now create both the data and slider. \n",
    "# the data should be a list where each is a choroplethmapbox with the relevant data\n",
    "# slider mainly contains a list of step dicts mapping args to a boolean list\n",
    "steps = []\n",
    "data = []\n",
    "grouped = heatmap_df.groupby(\"time\", as_index=False)\n",
    "i = 0\n",
    "for name, grp in grouped:\n",
    "    step = dict(method='restyle', args=['visible', [False] * len(grouped)], label=name)\n",
    "    step['args'][1][i] = True\n",
    "    steps.append(step)\n",
    "    df_contour, heat_geojson = make_contour_and_geojson(grp)\n",
    "    trace = go.Choroplethmapbox(geojson=heat_geojson,\n",
    "                            locations=df_contour[\"id\"],\n",
    "                            z=df_contour[\"title\"],\n",
    "                            colorscale=\"jet\",  \n",
    "                            marker_line_width=0,\n",
    "                            marker={'opacity': 0.5})\n",
    "    data.append(trace)\n",
    "    i+=1\n",
    "\n",
    "sliders = [dict(active=0, pad={\"t\": 1}, steps=steps)]\n",
    "\n",
    "layout = go.Layout(\n",
    "    title=\"{} Data\".format(measurement_selected), title_x=0.4,\n",
    "    height = 800,\n",
    "    margin = dict(t = 80, b = 0, l = 0, r = 0),\n",
    "    font = dict(color = 'dark grey', size = 18),\n",
    "    mapbox = dict(center = {'lat': heatmap_center[0], 'lon': heatmap_center[1]},\n",
    "    zoom = 11, style = \"carto-positron\"), sliders=sliders)\n",
    "\n",
    "figure={'data': data, 'layout': layout}\n",
    "\n",
    "plot(figure)\n",
    "\n"
   ]
  },
  {
   "cell_type": "code",
   "execution_count": null,
   "metadata": {},
   "outputs": [],
   "source": []
  }
 ],
 "metadata": {
  "kernelspec": {
   "display_name": "Python 3",
   "language": "python",
   "name": "python3"
  },
  "language_info": {
   "codemirror_mode": {
    "name": "ipython",
    "version": 3
   },
   "file_extension": ".py",
   "mimetype": "text/x-python",
   "name": "python",
   "nbconvert_exporter": "python",
   "pygments_lexer": "ipython3",
   "version": "3.7.4"
  }
 },
 "nbformat": 4,
 "nbformat_minor": 4
}
